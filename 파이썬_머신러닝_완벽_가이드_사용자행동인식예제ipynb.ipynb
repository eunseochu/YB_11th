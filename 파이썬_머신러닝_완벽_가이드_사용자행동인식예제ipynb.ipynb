{
  "nbformat": 4,
  "nbformat_minor": 0,
  "metadata": {
    "colab": {
      "provenance": [],
      "authorship_tag": "ABX9TyPSWX4u6fDtjXHrrGJEJ6kb",
      "include_colab_link": true
    },
    "kernelspec": {
      "name": "python3",
      "display_name": "Python 3"
    },
    "language_info": {
      "name": "python"
    }
  },
  "cells": [
    {
      "cell_type": "markdown",
      "metadata": {
        "id": "view-in-github",
        "colab_type": "text"
      },
      "source": [
        "<a href=\"https://colab.research.google.com/github/eunseochu/YB_11th/blob/main/%ED%8C%8C%EC%9D%B4%EC%8D%AC_%EB%A8%B8%EC%8B%A0%EB%9F%AC%EB%8B%9D_%EC%99%84%EB%B2%BD_%EA%B0%80%EC%9D%B4%EB%93%9C_%EC%82%AC%EC%9A%A9%EC%9E%90%ED%96%89%EB%8F%99%EC%9D%B8%EC%8B%9D%EC%98%88%EC%A0%9Cipynb.ipynb\" target=\"_parent\"><img src=\"https://colab.research.google.com/assets/colab-badge.svg\" alt=\"Open In Colab\"/></a>"
      ]
    },
    {
      "cell_type": "markdown",
      "source": [
        "#### **결정 트리 실습 - 사용자 행동 인식 데이터 세트**\n",
        "결정 트리를 이용해 UCI 머신러닝 리포지토리에서 제공하는 사용자 행동 인식 데이터 세트에 대한 예측 분류 수행\n",
        "- 30명에서 스마트폰 센서를 장착한 뒤 사람의 동작과 관련된 여러 가지 피처를 수집한 데이터\n",
        "- 수집된 피처 세트를 기반으로 결정 트리를 이용해 어떤 동작인지 예측"
      ],
      "metadata": {
        "id": "zPxCzov-Me9S"
      }
    },
    {
      "cell_type": "markdown",
      "source": [
        "**1) 피처의 명칭 간략 확인** <br/>\n",
        "인체의 움직임과 관련된 속성의 평균/표준편차가 X, Y, Z축 값으로 돼 있음"
      ],
      "metadata": {
        "id": "atWRMjR_Qdp5"
      }
    },
    {
      "cell_type": "code",
      "execution_count": 1,
      "metadata": {
        "colab": {
          "base_uri": "https://localhost:8080/",
          "height": 0
        },
        "id": "a-Kk3A73LQVj",
        "outputId": "2bc56513-46dd-47fe-8d94-7332385fd58a"
      },
      "outputs": [
        {
          "output_type": "stream",
          "name": "stdout",
          "text": [
            "전체 피처명에서 10개만 추출: ['tBodyAcc-mean()-X', 'tBodyAcc-mean()-Y', 'tBodyAcc-mean()-Z', 'tBodyAcc-std()-X', 'tBodyAcc-std()-Y', 'tBodyAcc-std()-Z', 'tBodyAcc-mad()-X', 'tBodyAcc-mad()-Y', 'tBodyAcc-mad()-Z', 'tBodyAcc-max()-X']\n"
          ]
        }
      ],
      "source": [
        "import pandas as pd\n",
        "import matplotlib.pyplot as plt\n",
        "%matplotlib inline\n",
        "\n",
        "# features.txt 파일에는 피처 이름 index와 피처명이 공백으로 분리 되어 있음. 이를 DataFrame으로 로드.\n",
        "feature_name_df = pd.read_csv('/content/sample_data/features.txt', sep = '\\s+', header = None, names = ['column_index', 'column_name'])\n",
        "\n",
        "# 피처명 index를 제거하고, 피처명만 리스트 객체로 생성한 뒤 샘플로 10개만 추출\n",
        "feature_name = feature_name_df.iloc[:, 1].values.tolist()\n",
        "print('전체 피처명에서 10개만 추출:', feature_name[:10])"
      ]
    },
    {
      "cell_type": "markdown",
      "source": [
        "**2-1) 중복된 피처명 확인** <br/>\n",
        "feature.txt의 피처명과 features_info.txt 파일은 중복된 피처명을 가지고 있음 <br/>\n",
        "중복된 피처명들을 이용해 데이터 파일을 데이터 세트 DataFrame에 로드하면 오류 발생"
      ],
      "metadata": {
        "id": "oK6AhUU5Qls-"
      }
    },
    {
      "cell_type": "code",
      "source": [
        "feature_dup_df = feature_name_df.groupby('column_name').count()\n",
        "print(feature_dup_df[feature_dup_df['column_index'] > 1].count())\n",
        "feature_dup_df[feature_dup_df['column_index'] > 1].head()"
      ],
      "metadata": {
        "colab": {
          "base_uri": "https://localhost:8080/",
          "height": 273
        },
        "id": "a4zJClpMQ80H",
        "outputId": "bf36105b-7db1-468e-ba31-787ee2b163f0"
      },
      "execution_count": 2,
      "outputs": [
        {
          "output_type": "stream",
          "name": "stdout",
          "text": [
            "column_index    42\n",
            "dtype: int64\n"
          ]
        },
        {
          "output_type": "execute_result",
          "data": {
            "text/plain": [
              "                              column_index\n",
              "column_name                               \n",
              "fBodyAcc-bandsEnergy()-1,16              3\n",
              "fBodyAcc-bandsEnergy()-1,24              3\n",
              "fBodyAcc-bandsEnergy()-1,8               3\n",
              "fBodyAcc-bandsEnergy()-17,24             3\n",
              "fBodyAcc-bandsEnergy()-17,32             3"
            ],
            "text/html": [
              "\n",
              "  <div id=\"df-8e86fba7-a2d5-4412-adb4-40939ac28e20\">\n",
              "    <div class=\"colab-df-container\">\n",
              "      <div>\n",
              "<style scoped>\n",
              "    .dataframe tbody tr th:only-of-type {\n",
              "        vertical-align: middle;\n",
              "    }\n",
              "\n",
              "    .dataframe tbody tr th {\n",
              "        vertical-align: top;\n",
              "    }\n",
              "\n",
              "    .dataframe thead th {\n",
              "        text-align: right;\n",
              "    }\n",
              "</style>\n",
              "<table border=\"1\" class=\"dataframe\">\n",
              "  <thead>\n",
              "    <tr style=\"text-align: right;\">\n",
              "      <th></th>\n",
              "      <th>column_index</th>\n",
              "    </tr>\n",
              "    <tr>\n",
              "      <th>column_name</th>\n",
              "      <th></th>\n",
              "    </tr>\n",
              "  </thead>\n",
              "  <tbody>\n",
              "    <tr>\n",
              "      <th>fBodyAcc-bandsEnergy()-1,16</th>\n",
              "      <td>3</td>\n",
              "    </tr>\n",
              "    <tr>\n",
              "      <th>fBodyAcc-bandsEnergy()-1,24</th>\n",
              "      <td>3</td>\n",
              "    </tr>\n",
              "    <tr>\n",
              "      <th>fBodyAcc-bandsEnergy()-1,8</th>\n",
              "      <td>3</td>\n",
              "    </tr>\n",
              "    <tr>\n",
              "      <th>fBodyAcc-bandsEnergy()-17,24</th>\n",
              "      <td>3</td>\n",
              "    </tr>\n",
              "    <tr>\n",
              "      <th>fBodyAcc-bandsEnergy()-17,32</th>\n",
              "      <td>3</td>\n",
              "    </tr>\n",
              "  </tbody>\n",
              "</table>\n",
              "</div>\n",
              "      <button class=\"colab-df-convert\" onclick=\"convertToInteractive('df-8e86fba7-a2d5-4412-adb4-40939ac28e20')\"\n",
              "              title=\"Convert this dataframe to an interactive table.\"\n",
              "              style=\"display:none;\">\n",
              "        \n",
              "  <svg xmlns=\"http://www.w3.org/2000/svg\" height=\"24px\"viewBox=\"0 0 24 24\"\n",
              "       width=\"24px\">\n",
              "    <path d=\"M0 0h24v24H0V0z\" fill=\"none\"/>\n",
              "    <path d=\"M18.56 5.44l.94 2.06.94-2.06 2.06-.94-2.06-.94-.94-2.06-.94 2.06-2.06.94zm-11 1L8.5 8.5l.94-2.06 2.06-.94-2.06-.94L8.5 2.5l-.94 2.06-2.06.94zm10 10l.94 2.06.94-2.06 2.06-.94-2.06-.94-.94-2.06-.94 2.06-2.06.94z\"/><path d=\"M17.41 7.96l-1.37-1.37c-.4-.4-.92-.59-1.43-.59-.52 0-1.04.2-1.43.59L10.3 9.45l-7.72 7.72c-.78.78-.78 2.05 0 2.83L4 21.41c.39.39.9.59 1.41.59.51 0 1.02-.2 1.41-.59l7.78-7.78 2.81-2.81c.8-.78.8-2.07 0-2.86zM5.41 20L4 18.59l7.72-7.72 1.47 1.35L5.41 20z\"/>\n",
              "  </svg>\n",
              "      </button>\n",
              "      \n",
              "  <style>\n",
              "    .colab-df-container {\n",
              "      display:flex;\n",
              "      flex-wrap:wrap;\n",
              "      gap: 12px;\n",
              "    }\n",
              "\n",
              "    .colab-df-convert {\n",
              "      background-color: #E8F0FE;\n",
              "      border: none;\n",
              "      border-radius: 50%;\n",
              "      cursor: pointer;\n",
              "      display: none;\n",
              "      fill: #1967D2;\n",
              "      height: 32px;\n",
              "      padding: 0 0 0 0;\n",
              "      width: 32px;\n",
              "    }\n",
              "\n",
              "    .colab-df-convert:hover {\n",
              "      background-color: #E2EBFA;\n",
              "      box-shadow: 0px 1px 2px rgba(60, 64, 67, 0.3), 0px 1px 3px 1px rgba(60, 64, 67, 0.15);\n",
              "      fill: #174EA6;\n",
              "    }\n",
              "\n",
              "    [theme=dark] .colab-df-convert {\n",
              "      background-color: #3B4455;\n",
              "      fill: #D2E3FC;\n",
              "    }\n",
              "\n",
              "    [theme=dark] .colab-df-convert:hover {\n",
              "      background-color: #434B5C;\n",
              "      box-shadow: 0px 1px 3px 1px rgba(0, 0, 0, 0.15);\n",
              "      filter: drop-shadow(0px 1px 2px rgba(0, 0, 0, 0.3));\n",
              "      fill: #FFFFFF;\n",
              "    }\n",
              "  </style>\n",
              "\n",
              "      <script>\n",
              "        const buttonEl =\n",
              "          document.querySelector('#df-8e86fba7-a2d5-4412-adb4-40939ac28e20 button.colab-df-convert');\n",
              "        buttonEl.style.display =\n",
              "          google.colab.kernel.accessAllowed ? 'block' : 'none';\n",
              "\n",
              "        async function convertToInteractive(key) {\n",
              "          const element = document.querySelector('#df-8e86fba7-a2d5-4412-adb4-40939ac28e20');\n",
              "          const dataTable =\n",
              "            await google.colab.kernel.invokeFunction('convertToInteractive',\n",
              "                                                     [key], {});\n",
              "          if (!dataTable) return;\n",
              "\n",
              "          const docLinkHtml = 'Like what you see? Visit the ' +\n",
              "            '<a target=\"_blank\" href=https://colab.research.google.com/notebooks/data_table.ipynb>data table notebook</a>'\n",
              "            + ' to learn more about interactive tables.';\n",
              "          element.innerHTML = '';\n",
              "          dataTable['output_type'] = 'display_data';\n",
              "          await google.colab.output.renderOutput(dataTable, element);\n",
              "          const docLink = document.createElement('div');\n",
              "          docLink.innerHTML = docLinkHtml;\n",
              "          element.appendChild(docLink);\n",
              "        }\n",
              "      </script>\n",
              "    </div>\n",
              "  </div>\n",
              "  "
            ]
          },
          "metadata": {},
          "execution_count": 2
        }
      ]
    },
    {
      "cell_type": "markdown",
      "source": [
        "**2-2) 중복된 피처명 변경** <br/>\n",
        "중복된 피처명에 대해서는 원본 피처명에_1 또는 _2를 추가로 부여하여, <br/>\n",
        "새로운 피처명을 가지는 DataFrame을 반환하는 함수인 **get_new_feature_name_df()**를 생성"
      ],
      "metadata": {
        "id": "0yCkeEqXRhDy"
      }
    },
    {
      "cell_type": "code",
      "source": [
        "def get_new_feature_name_df(old_feature_name_df):\n",
        "  feature_dup_df = pd.DataFrame(data = old_feature_name_df.groupby('column_name').cumcount(), columns = ['dup_cnt'])\n",
        "  feature_dup_df = feature_dup_df.reset_index()\n",
        "  new_feature_name_df = pd.merge(old_feature_name_df.reset_index(), feature_dup_df, how = 'outer')\n",
        "  new_feature_name_df['column_name'] = new_feature_name_df[['column_name','dup_cnt']].apply(lambda x:x[0]+'_'+str(x[1]) if x[1]>0 else x[0], axis = 1)\n",
        "  new_feature_name_df = new_feature_name_df.drop(['index'], axis = 1)\n",
        "  return new_feature_name_df"
      ],
      "metadata": {
        "id": "Bywgdzq4RvpQ"
      },
      "execution_count": 19,
      "outputs": []
    },
    {
      "cell_type": "markdown",
      "source": [
        "**3-1) 데이터 세트 로드** <br/>\n",
        "train 디렉토리에 있는 학습용 피처 데이터 세트와 레이블 데이터 세트, <br/>\n",
        "test 디렉토리에 있는 테스트용 피처 데이터 파일과 레이블 데이터 파일을 각각 학습/테스트용 DataFrame에 로드\n",
        "- 공백으로 분리되어 있으므로 read_csv()의 sep 인자로 공백 문자 입력\n",
        "- 레이블 칼럼은 'action'으로 명명\n",
        "- DataFrame을 생성하는 로직을 간단한 함수 get_human_dataset()으로 생성\n",
        "- get_new_feature_name_df()는 get_human_dataset() 내에서 적용돼 중복된 피처명을 새로운 피처명으로 할당"
      ],
      "metadata": {
        "id": "sHNsPJS-SuEu"
      }
    },
    {
      "cell_type": "code",
      "source": [
        "def get_human_dataset():\n",
        "\n",
        "  # 각 데이터 파일은 공백으로 분리되어 있으므로 read_csv에서 공백 문자를 sep으로 할당.\n",
        "  feature_name_df = pd.read_csv('/content/sample_data/features.txt',sep='\\s+', header=None,names=['column_index','column_name'])\n",
        "\n",
        "  # 중복된 피처명을 수정하는 get_new_feature_name_df()를 이용, 신규 피처명 DataFrame 생성\n",
        "  new_feature_name_df = get_new_feature_name_df(feature_name_df)\n",
        " \n",
        "  # DataFrame에 피처명을 칼럼으로 부여하기 위해 리스트 객체로 다시 변환\n",
        "  feature_name = new_feature_name_df.iloc[:, 1].values.tolist()\n",
        "\n",
        "  # 학습 피처 데이터세트와 테스트 피처 데이터를 DataFrame으로 로딩, 칼럼명은 feature_name 적용\n",
        "  X_train = pd.read_csv('/content/sample_data/X_train.txt', sep = '\\s+', names = feature_name)\n",
        "  X_test = pd.read_csv('/content/sample_data/X_test.txt', sep = '\\s+', names = feature_name)\n",
        "\n",
        "  # 학습 레이블과 테스트 레이블 데이터를 DataFrame으로 로딩하고 칼럼명은 action으로 부여\n",
        "  y_train = pd.read_csv('/content/sample_data/y_train.txt', sep = '\\s+', header = None, names = ['action'])\n",
        "  y_test = pd.read_csv('/content/sample_data/y_test.txt', sep = '\\s+', header = None, names = ['action'])\n",
        "\n",
        "  # 로드된 학습/테스트용 DataFrame을 모두 반환\n",
        "  return X_train, X_test, y_train, y_test\n",
        "\n",
        "X_train, X_test, y_train, y_test = get_human_dataset()"
      ],
      "metadata": {
        "id": "9B9D76BASU9j"
      },
      "execution_count": 20,
      "outputs": []
    },
    {
      "cell_type": "markdown",
      "source": [
        "**3-2) 학습용 피처 데이터 세트 살펴보기** <br/>\n",
        "7352개의 레코드로 561개의 피처를 가지고 있음\n",
        "- 피처가 전부 float 형의 숫자이므로 별도의 카테고리 인코딩 수행할 필요 없음\n",
        "- 많은 칼럼의 대부분이 움직임의 위치와 관련된 속성"
      ],
      "metadata": {
        "id": "9b98n_FHUYla"
      }
    },
    {
      "cell_type": "code",
      "source": [
        "print('## 학습 피처 데이터셋 info()')\n",
        "print(X_train.info())"
      ],
      "metadata": {
        "colab": {
          "base_uri": "https://localhost:8080/",
          "height": 0
        },
        "id": "abZod1OhUdaC",
        "outputId": "aec07a3f-70bb-4e56-b2ff-875defee6e33"
      },
      "execution_count": 21,
      "outputs": [
        {
          "output_type": "stream",
          "name": "stdout",
          "text": [
            "## 학습 피처 데이터셋 info()\n",
            "<class 'pandas.core.frame.DataFrame'>\n",
            "RangeIndex: 7352 entries, 0 to 7351\n",
            "Columns: 561 entries, tBodyAcc-mean()-X to angle(Z,gravityMean)\n",
            "dtypes: float64(561)\n",
            "memory usage: 31.5 MB\n",
            "None\n"
          ]
        }
      ]
    },
    {
      "cell_type": "code",
      "source": [
        "X_train.head()"
      ],
      "metadata": {
        "colab": {
          "base_uri": "https://localhost:8080/",
          "height": 317
        },
        "id": "VXDM-DzOWxuO",
        "outputId": "736c14aa-b3ae-40d6-cfcc-59fa7c6de84f"
      },
      "execution_count": 22,
      "outputs": [
        {
          "output_type": "execute_result",
          "data": {
            "text/plain": [
              "   tBodyAcc-mean()-X  tBodyAcc-mean()-Y  tBodyAcc-mean()-Z  tBodyAcc-std()-X  \\\n",
              "0           0.288585          -0.020294          -0.132905         -0.995279   \n",
              "1           0.278419          -0.016411          -0.123520         -0.998245   \n",
              "2           0.279653          -0.019467          -0.113462         -0.995380   \n",
              "3           0.279174          -0.026201          -0.123283         -0.996091   \n",
              "4           0.276629          -0.016570          -0.115362         -0.998139   \n",
              "\n",
              "   tBodyAcc-std()-Y  tBodyAcc-std()-Z  tBodyAcc-mad()-X  tBodyAcc-mad()-Y  \\\n",
              "0         -0.983111         -0.913526         -0.995112         -0.983185   \n",
              "1         -0.975300         -0.960322         -0.998807         -0.974914   \n",
              "2         -0.967187         -0.978944         -0.996520         -0.963668   \n",
              "3         -0.983403         -0.990675         -0.997099         -0.982750   \n",
              "4         -0.980817         -0.990482         -0.998321         -0.979672   \n",
              "\n",
              "   tBodyAcc-mad()-Z  tBodyAcc-max()-X  ...  fBodyBodyGyroJerkMag-meanFreq()  \\\n",
              "0         -0.923527         -0.934724  ...                        -0.074323   \n",
              "1         -0.957686         -0.943068  ...                         0.158075   \n",
              "2         -0.977469         -0.938692  ...                         0.414503   \n",
              "3         -0.989302         -0.938692  ...                         0.404573   \n",
              "4         -0.990441         -0.942469  ...                         0.087753   \n",
              "\n",
              "   fBodyBodyGyroJerkMag-skewness()  fBodyBodyGyroJerkMag-kurtosis()  \\\n",
              "0                        -0.298676                        -0.710304   \n",
              "1                        -0.595051                        -0.861499   \n",
              "2                        -0.390748                        -0.760104   \n",
              "3                        -0.117290                        -0.482845   \n",
              "4                        -0.351471                        -0.699205   \n",
              "\n",
              "   angle(tBodyAccMean,gravity)  angle(tBodyAccJerkMean),gravityMean)  \\\n",
              "0                    -0.112754                              0.030400   \n",
              "1                     0.053477                             -0.007435   \n",
              "2                    -0.118559                              0.177899   \n",
              "3                    -0.036788                             -0.012892   \n",
              "4                     0.123320                              0.122542   \n",
              "\n",
              "   angle(tBodyGyroMean,gravityMean)  angle(tBodyGyroJerkMean,gravityMean)  \\\n",
              "0                         -0.464761                             -0.018446   \n",
              "1                         -0.732626                              0.703511   \n",
              "2                          0.100699                              0.808529   \n",
              "3                          0.640011                             -0.485366   \n",
              "4                          0.693578                             -0.615971   \n",
              "\n",
              "   angle(X,gravityMean)  angle(Y,gravityMean)  angle(Z,gravityMean)  \n",
              "0             -0.841247              0.179941             -0.058627  \n",
              "1             -0.844788              0.180289             -0.054317  \n",
              "2             -0.848933              0.180637             -0.049118  \n",
              "3             -0.848649              0.181935             -0.047663  \n",
              "4             -0.847865              0.185151             -0.043892  \n",
              "\n",
              "[5 rows x 561 columns]"
            ],
            "text/html": [
              "\n",
              "  <div id=\"df-f8d1a72b-62ff-4d79-89b4-646eda75e5f3\">\n",
              "    <div class=\"colab-df-container\">\n",
              "      <div>\n",
              "<style scoped>\n",
              "    .dataframe tbody tr th:only-of-type {\n",
              "        vertical-align: middle;\n",
              "    }\n",
              "\n",
              "    .dataframe tbody tr th {\n",
              "        vertical-align: top;\n",
              "    }\n",
              "\n",
              "    .dataframe thead th {\n",
              "        text-align: right;\n",
              "    }\n",
              "</style>\n",
              "<table border=\"1\" class=\"dataframe\">\n",
              "  <thead>\n",
              "    <tr style=\"text-align: right;\">\n",
              "      <th></th>\n",
              "      <th>tBodyAcc-mean()-X</th>\n",
              "      <th>tBodyAcc-mean()-Y</th>\n",
              "      <th>tBodyAcc-mean()-Z</th>\n",
              "      <th>tBodyAcc-std()-X</th>\n",
              "      <th>tBodyAcc-std()-Y</th>\n",
              "      <th>tBodyAcc-std()-Z</th>\n",
              "      <th>tBodyAcc-mad()-X</th>\n",
              "      <th>tBodyAcc-mad()-Y</th>\n",
              "      <th>tBodyAcc-mad()-Z</th>\n",
              "      <th>tBodyAcc-max()-X</th>\n",
              "      <th>...</th>\n",
              "      <th>fBodyBodyGyroJerkMag-meanFreq()</th>\n",
              "      <th>fBodyBodyGyroJerkMag-skewness()</th>\n",
              "      <th>fBodyBodyGyroJerkMag-kurtosis()</th>\n",
              "      <th>angle(tBodyAccMean,gravity)</th>\n",
              "      <th>angle(tBodyAccJerkMean),gravityMean)</th>\n",
              "      <th>angle(tBodyGyroMean,gravityMean)</th>\n",
              "      <th>angle(tBodyGyroJerkMean,gravityMean)</th>\n",
              "      <th>angle(X,gravityMean)</th>\n",
              "      <th>angle(Y,gravityMean)</th>\n",
              "      <th>angle(Z,gravityMean)</th>\n",
              "    </tr>\n",
              "  </thead>\n",
              "  <tbody>\n",
              "    <tr>\n",
              "      <th>0</th>\n",
              "      <td>0.288585</td>\n",
              "      <td>-0.020294</td>\n",
              "      <td>-0.132905</td>\n",
              "      <td>-0.995279</td>\n",
              "      <td>-0.983111</td>\n",
              "      <td>-0.913526</td>\n",
              "      <td>-0.995112</td>\n",
              "      <td>-0.983185</td>\n",
              "      <td>-0.923527</td>\n",
              "      <td>-0.934724</td>\n",
              "      <td>...</td>\n",
              "      <td>-0.074323</td>\n",
              "      <td>-0.298676</td>\n",
              "      <td>-0.710304</td>\n",
              "      <td>-0.112754</td>\n",
              "      <td>0.030400</td>\n",
              "      <td>-0.464761</td>\n",
              "      <td>-0.018446</td>\n",
              "      <td>-0.841247</td>\n",
              "      <td>0.179941</td>\n",
              "      <td>-0.058627</td>\n",
              "    </tr>\n",
              "    <tr>\n",
              "      <th>1</th>\n",
              "      <td>0.278419</td>\n",
              "      <td>-0.016411</td>\n",
              "      <td>-0.123520</td>\n",
              "      <td>-0.998245</td>\n",
              "      <td>-0.975300</td>\n",
              "      <td>-0.960322</td>\n",
              "      <td>-0.998807</td>\n",
              "      <td>-0.974914</td>\n",
              "      <td>-0.957686</td>\n",
              "      <td>-0.943068</td>\n",
              "      <td>...</td>\n",
              "      <td>0.158075</td>\n",
              "      <td>-0.595051</td>\n",
              "      <td>-0.861499</td>\n",
              "      <td>0.053477</td>\n",
              "      <td>-0.007435</td>\n",
              "      <td>-0.732626</td>\n",
              "      <td>0.703511</td>\n",
              "      <td>-0.844788</td>\n",
              "      <td>0.180289</td>\n",
              "      <td>-0.054317</td>\n",
              "    </tr>\n",
              "    <tr>\n",
              "      <th>2</th>\n",
              "      <td>0.279653</td>\n",
              "      <td>-0.019467</td>\n",
              "      <td>-0.113462</td>\n",
              "      <td>-0.995380</td>\n",
              "      <td>-0.967187</td>\n",
              "      <td>-0.978944</td>\n",
              "      <td>-0.996520</td>\n",
              "      <td>-0.963668</td>\n",
              "      <td>-0.977469</td>\n",
              "      <td>-0.938692</td>\n",
              "      <td>...</td>\n",
              "      <td>0.414503</td>\n",
              "      <td>-0.390748</td>\n",
              "      <td>-0.760104</td>\n",
              "      <td>-0.118559</td>\n",
              "      <td>0.177899</td>\n",
              "      <td>0.100699</td>\n",
              "      <td>0.808529</td>\n",
              "      <td>-0.848933</td>\n",
              "      <td>0.180637</td>\n",
              "      <td>-0.049118</td>\n",
              "    </tr>\n",
              "    <tr>\n",
              "      <th>3</th>\n",
              "      <td>0.279174</td>\n",
              "      <td>-0.026201</td>\n",
              "      <td>-0.123283</td>\n",
              "      <td>-0.996091</td>\n",
              "      <td>-0.983403</td>\n",
              "      <td>-0.990675</td>\n",
              "      <td>-0.997099</td>\n",
              "      <td>-0.982750</td>\n",
              "      <td>-0.989302</td>\n",
              "      <td>-0.938692</td>\n",
              "      <td>...</td>\n",
              "      <td>0.404573</td>\n",
              "      <td>-0.117290</td>\n",
              "      <td>-0.482845</td>\n",
              "      <td>-0.036788</td>\n",
              "      <td>-0.012892</td>\n",
              "      <td>0.640011</td>\n",
              "      <td>-0.485366</td>\n",
              "      <td>-0.848649</td>\n",
              "      <td>0.181935</td>\n",
              "      <td>-0.047663</td>\n",
              "    </tr>\n",
              "    <tr>\n",
              "      <th>4</th>\n",
              "      <td>0.276629</td>\n",
              "      <td>-0.016570</td>\n",
              "      <td>-0.115362</td>\n",
              "      <td>-0.998139</td>\n",
              "      <td>-0.980817</td>\n",
              "      <td>-0.990482</td>\n",
              "      <td>-0.998321</td>\n",
              "      <td>-0.979672</td>\n",
              "      <td>-0.990441</td>\n",
              "      <td>-0.942469</td>\n",
              "      <td>...</td>\n",
              "      <td>0.087753</td>\n",
              "      <td>-0.351471</td>\n",
              "      <td>-0.699205</td>\n",
              "      <td>0.123320</td>\n",
              "      <td>0.122542</td>\n",
              "      <td>0.693578</td>\n",
              "      <td>-0.615971</td>\n",
              "      <td>-0.847865</td>\n",
              "      <td>0.185151</td>\n",
              "      <td>-0.043892</td>\n",
              "    </tr>\n",
              "  </tbody>\n",
              "</table>\n",
              "<p>5 rows × 561 columns</p>\n",
              "</div>\n",
              "      <button class=\"colab-df-convert\" onclick=\"convertToInteractive('df-f8d1a72b-62ff-4d79-89b4-646eda75e5f3')\"\n",
              "              title=\"Convert this dataframe to an interactive table.\"\n",
              "              style=\"display:none;\">\n",
              "        \n",
              "  <svg xmlns=\"http://www.w3.org/2000/svg\" height=\"24px\"viewBox=\"0 0 24 24\"\n",
              "       width=\"24px\">\n",
              "    <path d=\"M0 0h24v24H0V0z\" fill=\"none\"/>\n",
              "    <path d=\"M18.56 5.44l.94 2.06.94-2.06 2.06-.94-2.06-.94-.94-2.06-.94 2.06-2.06.94zm-11 1L8.5 8.5l.94-2.06 2.06-.94-2.06-.94L8.5 2.5l-.94 2.06-2.06.94zm10 10l.94 2.06.94-2.06 2.06-.94-2.06-.94-.94-2.06-.94 2.06-2.06.94z\"/><path d=\"M17.41 7.96l-1.37-1.37c-.4-.4-.92-.59-1.43-.59-.52 0-1.04.2-1.43.59L10.3 9.45l-7.72 7.72c-.78.78-.78 2.05 0 2.83L4 21.41c.39.39.9.59 1.41.59.51 0 1.02-.2 1.41-.59l7.78-7.78 2.81-2.81c.8-.78.8-2.07 0-2.86zM5.41 20L4 18.59l7.72-7.72 1.47 1.35L5.41 20z\"/>\n",
              "  </svg>\n",
              "      </button>\n",
              "      \n",
              "  <style>\n",
              "    .colab-df-container {\n",
              "      display:flex;\n",
              "      flex-wrap:wrap;\n",
              "      gap: 12px;\n",
              "    }\n",
              "\n",
              "    .colab-df-convert {\n",
              "      background-color: #E8F0FE;\n",
              "      border: none;\n",
              "      border-radius: 50%;\n",
              "      cursor: pointer;\n",
              "      display: none;\n",
              "      fill: #1967D2;\n",
              "      height: 32px;\n",
              "      padding: 0 0 0 0;\n",
              "      width: 32px;\n",
              "    }\n",
              "\n",
              "    .colab-df-convert:hover {\n",
              "      background-color: #E2EBFA;\n",
              "      box-shadow: 0px 1px 2px rgba(60, 64, 67, 0.3), 0px 1px 3px 1px rgba(60, 64, 67, 0.15);\n",
              "      fill: #174EA6;\n",
              "    }\n",
              "\n",
              "    [theme=dark] .colab-df-convert {\n",
              "      background-color: #3B4455;\n",
              "      fill: #D2E3FC;\n",
              "    }\n",
              "\n",
              "    [theme=dark] .colab-df-convert:hover {\n",
              "      background-color: #434B5C;\n",
              "      box-shadow: 0px 1px 3px 1px rgba(0, 0, 0, 0.15);\n",
              "      filter: drop-shadow(0px 1px 2px rgba(0, 0, 0, 0.3));\n",
              "      fill: #FFFFFF;\n",
              "    }\n",
              "  </style>\n",
              "\n",
              "      <script>\n",
              "        const buttonEl =\n",
              "          document.querySelector('#df-f8d1a72b-62ff-4d79-89b4-646eda75e5f3 button.colab-df-convert');\n",
              "        buttonEl.style.display =\n",
              "          google.colab.kernel.accessAllowed ? 'block' : 'none';\n",
              "\n",
              "        async function convertToInteractive(key) {\n",
              "          const element = document.querySelector('#df-f8d1a72b-62ff-4d79-89b4-646eda75e5f3');\n",
              "          const dataTable =\n",
              "            await google.colab.kernel.invokeFunction('convertToInteractive',\n",
              "                                                     [key], {});\n",
              "          if (!dataTable) return;\n",
              "\n",
              "          const docLinkHtml = 'Like what you see? Visit the ' +\n",
              "            '<a target=\"_blank\" href=https://colab.research.google.com/notebooks/data_table.ipynb>data table notebook</a>'\n",
              "            + ' to learn more about interactive tables.';\n",
              "          element.innerHTML = '';\n",
              "          dataTable['output_type'] = 'display_data';\n",
              "          await google.colab.output.renderOutput(dataTable, element);\n",
              "          const docLink = document.createElement('div');\n",
              "          docLink.innerHTML = docLinkHtml;\n",
              "          element.appendChild(docLink);\n",
              "        }\n",
              "      </script>\n",
              "    </div>\n",
              "  </div>\n",
              "  "
            ]
          },
          "metadata": {},
          "execution_count": 22
        }
      ]
    },
    {
      "cell_type": "markdown",
      "source": [
        "**3-3) 학습용 레이블 값 살펴보기** <br/>\n",
        "레이블 값은 1, 2, 3, 4, 5, 6의 6개 값이고 분포도는 특정 값으로 왜곡되지 않고 비교적 고르게 분포돼 있음"
      ],
      "metadata": {
        "id": "t2WxOWV2W_PV"
      }
    },
    {
      "cell_type": "code",
      "source": [
        "print(y_train['action'].value_counts())"
      ],
      "metadata": {
        "colab": {
          "base_uri": "https://localhost:8080/",
          "height": 0
        },
        "id": "HpqH74QQW7O1",
        "outputId": "f9f63b2c-cac2-42d1-f3cf-1e4421b74022"
      },
      "execution_count": 24,
      "outputs": [
        {
          "output_type": "stream",
          "name": "stdout",
          "text": [
            "6    1407\n",
            "5    1374\n",
            "4    1286\n",
            "1    1226\n",
            "2    1073\n",
            "3     986\n",
            "Name: action, dtype: int64\n"
          ]
        }
      ]
    },
    {
      "cell_type": "markdown",
      "source": [
        "**4) 동작 예측 분류 수행** <br/>\n",
        "사이킷런의 DecisionTreeClassifier 이용\n",
        "- DecisionTreeClassifier의 하이퍼 파라미터는 모두 디폴트 값으로 설정해 수행"
      ],
      "metadata": {
        "id": "71POposcXLPS"
      }
    },
    {
      "cell_type": "code",
      "source": [
        "from sklearn.tree import DecisionTreeClassifier\n",
        "from sklearn.metrics import accuracy_score\n",
        "\n",
        "# 예제 반복 시마다 동일한 예측 결과 도출을 위해 random_state 설정\n",
        "dt_clf = DecisionTreeClassifier(random_state = 156)\n",
        "dt_clf.fit(X_train, y_train)\n",
        "pred = dt_clf.predict(X_test)\n",
        "accuracy = accuracy_score(y_test, pred)\n",
        "print('결정 트리 예측 정확도: {0:.4f}'.format(accuracy))\n",
        "\n",
        "# DecisionTreeClassifier의 하이퍼 파라미터 추출\n",
        "print('DecisionTreeClassifier 기본 하이퍼 파라미터:\\n', dt_clf.get_params())"
      ],
      "metadata": {
        "colab": {
          "base_uri": "https://localhost:8080/",
          "height": 0
        },
        "id": "D3MN6xw7XU4k",
        "outputId": "6f88e51b-1737-4270-8c04-8b958c48a85f"
      },
      "execution_count": 30,
      "outputs": [
        {
          "output_type": "stream",
          "name": "stdout",
          "text": [
            "결정 트리 예측 정확도: 0.8548\n",
            "DecisionTreeClassifier 기본 하이퍼 파라미터:\n",
            " {'ccp_alpha': 0.0, 'class_weight': None, 'criterion': 'gini', 'max_depth': None, 'max_features': None, 'max_leaf_nodes': None, 'min_impurity_decrease': 0.0, 'min_samples_leaf': 1, 'min_samples_split': 2, 'min_weight_fraction_leaf': 0.0, 'random_state': 156, 'splitter': 'best'}\n"
          ]
        }
      ]
    },
    {
      "cell_type": "markdown",
      "source": [
        "**5-1) 결정 트리의 트리 깊이(Tree Depth)가 예측 정확도에 주는 영향 살펴보기** <br/>\n",
        "분류를 위해 리프 노드(클래스 결정 노드)가 될 수 있는 적합한 수준까지 지속해서 트리의 분할을 수행하면서 깊이가 깊어짐 <br/>\n",
        "- GridSearchCV를 이용해 사이킷런 결정 트리의 깊이를 조절할 수 있는 하이퍼 파라미터인 max_depth 값을 변화\n",
        "- max_depth를 6, 8, 10, 12, 16, 20, 24로 계속 늘리면서 예측 성능 측정\n",
        "- 교차 검증은 5개 세트"
      ],
      "metadata": {
        "id": "6FG2mn_ZYKU0"
      }
    },
    {
      "cell_type": "code",
      "source": [
        "# 5개의 CV 세트로 7개의 max_depth를 테스트\n",
        "\n",
        "from sklearn.model_selection import GridSearchCV\n",
        "\n",
        "params = {\n",
        "    'max_depth' : [6, 8, 10, 12, 16, 20, 24]\n",
        "}\n",
        "\n",
        "grid_cv = GridSearchCV(dt_clf, param_grid = params, scoring = 'accuracy', cv = 5, verbose = 1)\n",
        "grid_cv.fit(X_train, y_train)\n",
        "print('GridSearchCV 최고 평균 정확도 수치: {0:4f}'.format(grid_cv.best_score_))\n",
        "print('GridSearchCV 최적 하이퍼 파라미터:', grid_cv.best_params_)"
      ],
      "metadata": {
        "colab": {
          "base_uri": "https://localhost:8080/",
          "height": 0
        },
        "id": "HvI3FXbDYuqn",
        "outputId": "54f1f12f-1cc4-49d1-b32d-54ecb3ec02b7"
      },
      "execution_count": 33,
      "outputs": [
        {
          "output_type": "stream",
          "name": "stdout",
          "text": [
            "Fitting 5 folds for each of 7 candidates, totalling 35 fits\n",
            "GridSearchCV 최고 평균 정확도 수치: 0.851344\n",
            "GridSearchCV 최적 하이퍼 파라미터: {'max_depth': 16}\n"
          ]
        }
      ]
    },
    {
      "cell_type": "markdown",
      "source": [
        "**5-2) max_depth에 따른 예측 성능 확인** <br/>\n",
        "5개의 CV 세트에서 max_depth 값에 따라 어떻게 예측 성능이 변했는지 GridSearchCV 객체의 **cv_results_** 속성 살펴보기 <br/>\n",
        "- cv_results: CV 세트에 하이퍼 파라미터를 순차적으로 입력했을 때의 성능 수치\n",
        "- mean_test_score: 5개의 CV 세트에서 검증용 데이터 세트의 정확도 평균 수치"
      ],
      "metadata": {
        "id": "vyECsPNSagII"
      }
    },
    {
      "cell_type": "code",
      "source": [
        "# GridSearchCV 객체의 cv_results_ 속성을 DataFrame으로 생성.\n",
        "cv_results_df = pd.DataFrame(grid_cv.cv_results_)\n",
        "\n",
        "# max_depth 파라미터 값과 그때의 테스트 세트, 학습 데이터 세트의 정확도 수치 추출\n",
        "cv_results_df[['param_max_depth', 'mean_test_score']]"
      ],
      "metadata": {
        "colab": {
          "base_uri": "https://localhost:8080/",
          "height": 269
        },
        "id": "g2kdUzSWbCR2",
        "outputId": "f4e54608-3f98-423a-c4ac-fd751e10f58b"
      },
      "execution_count": 35,
      "outputs": [
        {
          "output_type": "execute_result",
          "data": {
            "text/plain": [
              "  param_max_depth  mean_test_score\n",
              "0               6         0.850791\n",
              "1               8         0.851069\n",
              "2              10         0.851209\n",
              "3              12         0.844135\n",
              "4              16         0.851344\n",
              "5              20         0.850800\n",
              "6              24         0.849440"
            ],
            "text/html": [
              "\n",
              "  <div id=\"df-d3afe293-ab5f-43ce-875d-e974059333bf\">\n",
              "    <div class=\"colab-df-container\">\n",
              "      <div>\n",
              "<style scoped>\n",
              "    .dataframe tbody tr th:only-of-type {\n",
              "        vertical-align: middle;\n",
              "    }\n",
              "\n",
              "    .dataframe tbody tr th {\n",
              "        vertical-align: top;\n",
              "    }\n",
              "\n",
              "    .dataframe thead th {\n",
              "        text-align: right;\n",
              "    }\n",
              "</style>\n",
              "<table border=\"1\" class=\"dataframe\">\n",
              "  <thead>\n",
              "    <tr style=\"text-align: right;\">\n",
              "      <th></th>\n",
              "      <th>param_max_depth</th>\n",
              "      <th>mean_test_score</th>\n",
              "    </tr>\n",
              "  </thead>\n",
              "  <tbody>\n",
              "    <tr>\n",
              "      <th>0</th>\n",
              "      <td>6</td>\n",
              "      <td>0.850791</td>\n",
              "    </tr>\n",
              "    <tr>\n",
              "      <th>1</th>\n",
              "      <td>8</td>\n",
              "      <td>0.851069</td>\n",
              "    </tr>\n",
              "    <tr>\n",
              "      <th>2</th>\n",
              "      <td>10</td>\n",
              "      <td>0.851209</td>\n",
              "    </tr>\n",
              "    <tr>\n",
              "      <th>3</th>\n",
              "      <td>12</td>\n",
              "      <td>0.844135</td>\n",
              "    </tr>\n",
              "    <tr>\n",
              "      <th>4</th>\n",
              "      <td>16</td>\n",
              "      <td>0.851344</td>\n",
              "    </tr>\n",
              "    <tr>\n",
              "      <th>5</th>\n",
              "      <td>20</td>\n",
              "      <td>0.850800</td>\n",
              "    </tr>\n",
              "    <tr>\n",
              "      <th>6</th>\n",
              "      <td>24</td>\n",
              "      <td>0.849440</td>\n",
              "    </tr>\n",
              "  </tbody>\n",
              "</table>\n",
              "</div>\n",
              "      <button class=\"colab-df-convert\" onclick=\"convertToInteractive('df-d3afe293-ab5f-43ce-875d-e974059333bf')\"\n",
              "              title=\"Convert this dataframe to an interactive table.\"\n",
              "              style=\"display:none;\">\n",
              "        \n",
              "  <svg xmlns=\"http://www.w3.org/2000/svg\" height=\"24px\"viewBox=\"0 0 24 24\"\n",
              "       width=\"24px\">\n",
              "    <path d=\"M0 0h24v24H0V0z\" fill=\"none\"/>\n",
              "    <path d=\"M18.56 5.44l.94 2.06.94-2.06 2.06-.94-2.06-.94-.94-2.06-.94 2.06-2.06.94zm-11 1L8.5 8.5l.94-2.06 2.06-.94-2.06-.94L8.5 2.5l-.94 2.06-2.06.94zm10 10l.94 2.06.94-2.06 2.06-.94-2.06-.94-.94-2.06-.94 2.06-2.06.94z\"/><path d=\"M17.41 7.96l-1.37-1.37c-.4-.4-.92-.59-1.43-.59-.52 0-1.04.2-1.43.59L10.3 9.45l-7.72 7.72c-.78.78-.78 2.05 0 2.83L4 21.41c.39.39.9.59 1.41.59.51 0 1.02-.2 1.41-.59l7.78-7.78 2.81-2.81c.8-.78.8-2.07 0-2.86zM5.41 20L4 18.59l7.72-7.72 1.47 1.35L5.41 20z\"/>\n",
              "  </svg>\n",
              "      </button>\n",
              "      \n",
              "  <style>\n",
              "    .colab-df-container {\n",
              "      display:flex;\n",
              "      flex-wrap:wrap;\n",
              "      gap: 12px;\n",
              "    }\n",
              "\n",
              "    .colab-df-convert {\n",
              "      background-color: #E8F0FE;\n",
              "      border: none;\n",
              "      border-radius: 50%;\n",
              "      cursor: pointer;\n",
              "      display: none;\n",
              "      fill: #1967D2;\n",
              "      height: 32px;\n",
              "      padding: 0 0 0 0;\n",
              "      width: 32px;\n",
              "    }\n",
              "\n",
              "    .colab-df-convert:hover {\n",
              "      background-color: #E2EBFA;\n",
              "      box-shadow: 0px 1px 2px rgba(60, 64, 67, 0.3), 0px 1px 3px 1px rgba(60, 64, 67, 0.15);\n",
              "      fill: #174EA6;\n",
              "    }\n",
              "\n",
              "    [theme=dark] .colab-df-convert {\n",
              "      background-color: #3B4455;\n",
              "      fill: #D2E3FC;\n",
              "    }\n",
              "\n",
              "    [theme=dark] .colab-df-convert:hover {\n",
              "      background-color: #434B5C;\n",
              "      box-shadow: 0px 1px 3px 1px rgba(0, 0, 0, 0.15);\n",
              "      filter: drop-shadow(0px 1px 2px rgba(0, 0, 0, 0.3));\n",
              "      fill: #FFFFFF;\n",
              "    }\n",
              "  </style>\n",
              "\n",
              "      <script>\n",
              "        const buttonEl =\n",
              "          document.querySelector('#df-d3afe293-ab5f-43ce-875d-e974059333bf button.colab-df-convert');\n",
              "        buttonEl.style.display =\n",
              "          google.colab.kernel.accessAllowed ? 'block' : 'none';\n",
              "\n",
              "        async function convertToInteractive(key) {\n",
              "          const element = document.querySelector('#df-d3afe293-ab5f-43ce-875d-e974059333bf');\n",
              "          const dataTable =\n",
              "            await google.colab.kernel.invokeFunction('convertToInteractive',\n",
              "                                                     [key], {});\n",
              "          if (!dataTable) return;\n",
              "\n",
              "          const docLinkHtml = 'Like what you see? Visit the ' +\n",
              "            '<a target=\"_blank\" href=https://colab.research.google.com/notebooks/data_table.ipynb>data table notebook</a>'\n",
              "            + ' to learn more about interactive tables.';\n",
              "          element.innerHTML = '';\n",
              "          dataTable['output_type'] = 'display_data';\n",
              "          await google.colab.output.renderOutput(dataTable, element);\n",
              "          const docLink = document.createElement('div');\n",
              "          docLink.innerHTML = docLinkHtml;\n",
              "          element.appendChild(docLink);\n",
              "        }\n",
              "      </script>\n",
              "    </div>\n",
              "  </div>\n",
              "  "
            ]
          },
          "metadata": {},
          "execution_count": 35
        }
      ]
    },
    {
      "cell_type": "markdown",
      "source": [
        "결정 트리는 더 완벽한 규칙을 학습 데이터 세트에 적용하기 위해 노드를 지속적으로 분할하면서 깊이가 깊어지고 더욱 더 복잡한 모델이 됨 <br/>\n",
        "깊어진 트리는 학습 데이터 세트에는 올바른 예측 결과를 가져올지 모르지만, 검증 데이터 세트에서는 오히려 과적합으로 인한 성능 저하 유발"
      ],
      "metadata": {
        "id": "nJrHu-UPbrig"
      }
    },
    {
      "cell_type": "markdown",
      "source": [
        "**6) 별도의 테스트 데이터 세트에서 결정 트리의 정확도 측정** <br/>\n",
        "별도의 테스트 데이터 세트에서 max_depth의 변화에 따른 값 측정"
      ],
      "metadata": {
        "id": "WcbD1gXEb4uA"
      }
    },
    {
      "cell_type": "code",
      "source": [
        "max_depths = [6, 8, 10, 12, 16, 20, 24]\n",
        "# max_depth 값을 변화시키면서 그때마다 학습과 테스트 세트에서의 예측 성능 측정\n",
        "for depth in max_depths:\n",
        "  dt_clf = DecisionTreeClassifier(max_depth = depth, random_state = 156)\n",
        "  dt_clf.fit(X_train, y_train)\n",
        "  pred = dt_clf.predict(X_test)\n",
        "  accuracy = accuracy_score(y_test, pred)\n",
        "  print('max_depth = {0} 정확도: {1:.4f}'.format(depth, accuracy))"
      ],
      "metadata": {
        "colab": {
          "base_uri": "https://localhost:8080/"
        },
        "id": "pGYzMDo4bxdz",
        "outputId": "2d87bfd4-eb79-4e73-84d6-a2b6cfd4921c"
      },
      "execution_count": 36,
      "outputs": [
        {
          "output_type": "stream",
          "name": "stdout",
          "text": [
            "max_depth = 6 정확도: 0.8558\n",
            "max_depth = 8 정확도: 0.8707\n",
            "max_depth = 10 정확도: 0.8673\n",
            "max_depth = 12 정확도: 0.8646\n",
            "max_depth = 16 정확도: 0.8575\n",
            "max_depth = 20 정확도: 0.8548\n",
            "max_depth = 24 정확도: 0.8548\n"
          ]
        }
      ]
    },
    {
      "cell_type": "markdown",
      "source": [
        "결정 트리는 깊이가 깊어질수록 과적합의 영향력이 커지므로 하이퍼 파라미터를 이용해 깊이 제어 필요 <br/>\n",
        "복잡한 모델보다도 트리 깊이를 낮춘 단순한 모델이 더욱 효과적인 결과를 가져올 수 있음"
      ],
      "metadata": {
        "id": "PFjvbgi0cpGm"
      }
    },
    {
      "cell_type": "markdown",
      "source": [
        "**7) 정확도 성능 튜닝** <br/>\n",
        "max_depth와 min_sample_split을 같이 변경하며 정확도 성능 튜닝"
      ],
      "metadata": {
        "id": "9o_YTDyxcv_t"
      }
    },
    {
      "cell_type": "code",
      "source": [
        "params = {\n",
        "    'max_depth' : [8, 12, 16, 20],\n",
        "    'min_samples_split': [16, 24],\n",
        "}\n",
        "\n",
        "grid_cv = GridSearchCV(dt_clf, param_grid = params, scoring = 'accuracy', cv = 5, verbose = 1)\n",
        "grid_cv.fit(X_train, y_train)\n",
        "print('GridSearchCV 최고 평균 정확도 수치: {0:.4f}'.format(grid_cv.best_score_))\n",
        "print('GridSearchCv 최적 하이퍼 파라미터:', grid_cv.best_params_)"
      ],
      "metadata": {
        "colab": {
          "base_uri": "https://localhost:8080/"
        },
        "id": "CeA24o5PcvjI",
        "outputId": "320d899c-b60f-4bc9-ea07-4bfaf581ae25"
      },
      "execution_count": 37,
      "outputs": [
        {
          "output_type": "stream",
          "name": "stdout",
          "text": [
            "Fitting 5 folds for each of 8 candidates, totalling 40 fits\n",
            "GridSearchCV 최고 평균 정확도 수치: 0.8549\n",
            "GridSearchCv 최적 하이퍼 파라미터: {'max_depth': 8, 'min_samples_split': 16}\n"
          ]
        }
      ]
    },
    {
      "cell_type": "markdown",
      "source": [
        "**8) 최적의 하이퍼 파라미터를 이용해 테스트 데이터 세트 예측 수행**"
      ],
      "metadata": {
        "id": "umgdarS2rTkn"
      }
    },
    {
      "cell_type": "code",
      "source": [
        "best_df_clf = grid_cv.best_estimator_\n",
        "pred1 = best_df_clf.predict(X_test)\n",
        "accuracy = accuracy_score(y_test, pred1)\n",
        "print('결정 트리 예측 정확도: {0:.4f}'.format(accuracy))"
      ],
      "metadata": {
        "colab": {
          "base_uri": "https://localhost:8080/"
        },
        "id": "e5BhgKCHrXXJ",
        "outputId": "f40d1753-8ae2-4d72-ca05-232901fff245"
      },
      "execution_count": 40,
      "outputs": [
        {
          "output_type": "stream",
          "name": "stdout",
          "text": [
            "결정 트리 예측 정확도: 0.8717\n"
          ]
        }
      ]
    },
    {
      "cell_type": "markdown",
      "source": [
        "**9) 각 피처의 중요도 살펴보기** <br/>\n",
        "feature_importances_ 속성을 이용해 중요도가 높은 순으로 막대그래프 표현"
      ],
      "metadata": {
        "id": "rbcUOW8NrnGx"
      }
    },
    {
      "cell_type": "code",
      "source": [
        "import seaborn as sns\n",
        "\n",
        "ftr_importances_values = best_df_clf.feature_importances_\n",
        "\n",
        "# Top 중요도로 정렬을 쉽게 하고, Seaborn의 막대그래프로 쉽게 표현하기 위해 Series 변환\n",
        "ftr_importances = pd.Series(ftr_importances_values, index = X_train.columns)\n",
        "\n",
        "# 중요도값 순으로 Series를 정렬\n",
        "ftr_top20 = ftr_importances.sort_values(ascending = False)[:20]\n",
        "plt.figure(figsize = (8,6))\n",
        "plt.title('Feature importance Top 20')\n",
        "sns.barplot(x = ftr_top20, y = ftr_top20.index)\n",
        "plt.show()"
      ],
      "metadata": {
        "colab": {
          "base_uri": "https://localhost:8080/",
          "height": 390
        },
        "id": "XT8VyF64rs2a",
        "outputId": "1307712e-f447-4ee8-865c-6bdffae6b0ea"
      },
      "execution_count": 41,
      "outputs": [
        {
          "output_type": "display_data",
          "data": {
            "text/plain": [
              "<Figure size 576x432 with 1 Axes>"
            ],
            "image/png": "[encoded data removed]"
          },
          "metadata": {
            "needs_background": "light"
          }
        }
      ]
    }
  ]
}